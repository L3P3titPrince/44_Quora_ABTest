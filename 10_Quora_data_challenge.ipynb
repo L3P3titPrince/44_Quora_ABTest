{
 "cells": [
  {
   "cell_type": "code",
   "execution_count": 1,
   "metadata": {},
   "outputs": [],
   "source": [
    "from IPython.display import Image"
   ]
  },
  {
   "cell_type": "markdown",
   "metadata": {},
   "source": [
    "# <a id=\"1.Summary\"> 1.Summary</a>"
   ]
  },
  {
   "cell_type": "markdown",
   "metadata": {},
   "source": [
    "Thank you for taking the time to complete Quora Data Challenge! We're excited about you continuing the interview process with us.\n",
    "\n",
    "The data challenge simulates a typical experiment analysis you would be expected to work on at Quora. In this challenge, we will provide several datasets and ask you to analyze the results and provide product recommendations for a particular experiment. \n",
    "\n",
    "The Google form is not timed but we expect you to spend around 1-2 hours answering the questions. While working on these problems, please document your process and code in any tools you are comfortable with. They don't have to be very organized but should demonstrate your thinking. We will ask you to submit that at the end. Feel free to refer to any online resources if necessary.\n",
    "\n",
    "Suppose you are a Data Scientist on the Mobile team at Quora. The team has just introduced a new UI design to the Quora app. The goal of the new design is to increase user engagement (measured by minutes spent on site). The team ran an A/B test to evaluate the change. Using the data, help the team understand the impact of the UI change better."
   ]
  },
  {
   "cell_type": "code",
   "execution_count": null,
   "metadata": {},
   "outputs": [],
   "source": []
  },
  {
   "cell_type": "markdown",
   "metadata": {},
   "source": [
    "https://www.zhihu.com/question/20458233/answer/1724891055"
   ]
  },
  {
   "cell_type": "markdown",
   "metadata": {},
   "source": [
    "A/B Testing isn't an useful testing as new experiences. There will be two trends, first is that people like old way and old experience, thats called change aversion. Second is thay they like new staff, so they don't attract by the change due to its convienent, instead they just explore the new feature when they first met new things and next time they will back to normal when they have explored everything. Thats called novelty effect.\n",
    "\n",
    "what is going to be the plateaued experience so that i can actually make a robust decision."
   ]
  },
  {
   "cell_type": "markdown",
   "metadata": {},
   "source": [
    "Table Schema\n",
    "\n",
    "t1_user_active_min.csv\n",
    "This table contains active minutes data logged after experiment started(2019-02-06 to 2019-07-05).\n",
    "Each row represents the total number of minutes spent on site for each user on a date.\n",
    "If a user never visited the site for a given date, there wouldn't be data for that uid on that date. ( for 50000 user, there are 3376 users never logged in Feb to May time period )\n",
    "- uid: user ID\n",
    "- dt: date when corresponding active minutes are registered\n",
    "- active_mins: number of minutes spent on site for the date\n",
    "\n",
    "t2_user_variant.csv\n",
    "This table contains users’ treatment assignment.\n",
    "Each row represents the assignment information for a unique user.\n",
    "- uid: user ID\n",
    "- variant_number: the experiment variant user is in. 0 for control, 1 for treatment\n",
    "- dt: date when user entered the experiment, should be ‘2019-02-06’ for all users\n",
    "- signup_date: the date string that user signed up on\n",
    "  \n",
    "t3_user_active_min_pre.csv\n",
    "This table contains active minutes data before the experiment started.\n",
    "It has a similar format as t1, except the dt range can extend before the experiment start date. ( '2018-08-10' to '2019-02-05' )\n",
    "- uid: user ID\n",
    "- dt: date when corresponding active minutes are registered\n",
    "- active_mins: number of minutes spent on site for the date\n",
    "\n",
    "t4_user_attributes.csv\n",
    "This table contains data about some user attributes.\n",
    "Each row represents attributes of a unique user.\n",
    "- uid: user ID\n",
    "- user_type: segment that a user belongs to, measured by activity level of the user. Can be ‘new_user’, ‘non_reader’, ‘reader’ or ‘contributor’\n",
    "- gender: user gender. Can be ‘male’, ‘female’ or ‘unknown’"
   ]
  },
  {
   "cell_type": "code",
   "execution_count": null,
   "metadata": {},
   "outputs": [],
   "source": []
  },
  {
   "cell_type": "code",
   "execution_count": null,
   "metadata": {},
   "outputs": [],
   "source": []
  },
  {
   "cell_type": "markdown",
   "metadata": {},
   "source": [
    "In order to measure the experiment effect on user engagement, let's say you want to perform a t-test of the difference in minutes spent on site, what would be your unit of analysis (i.e. when conducting a t-test, we calculate means and variances of two samples. What does each data point represent in the samples?)? *\n",
    "\n",
    "* <font color='red'>Total minutes per user in each group (number of data points in each group = number of users in that group)</font>\n",
    "* Total minutes per user per day in each group (number of data points in each group = number of users in that group x number of days of the experiment)\n",
    "* Total minutes per group per day (number of data points in each group = number of days of the experiment)"
   ]
  },
  {
   "cell_type": "markdown",
   "metadata": {},
   "source": [
    "Why do you think the other choices are not correct? Hint: think of the key assumptions of running a t-test.\n",
    "    \n",
    "Total minutes per user per day in each group regard each datapoint as in individual independent happening \n",
    "\n",
    "we want to increase 'user' spend time increase or not."
   ]
  },
  {
   "cell_type": "markdown",
   "metadata": {},
   "source": [
    "<br>"
   ]
  },
  {
   "cell_type": "markdown",
   "metadata": {},
   "source": [
    "Why do you think the other choices are not correct? Hint: think of the key assumptions of running a t-test. *"
   ]
  },
  {
   "cell_type": "markdown",
   "metadata": {},
   "source": [
    "**For the t-test assumption, if the distribution are not normal distribution, we need to follow the assumption: the population variance are equal. For second part, the variance are differnet becuase each user login days are not equal. For thrid option, the two part have differnet users login per day. So their population variance won't be equal.**"
   ]
  },
  {
   "cell_type": "markdown",
   "metadata": {},
   "source": [
    "Please enter the lower bound of your confidence interval (e.g. if the confidence Interval is [-1.00, 2.00], enter -1.00) = -38.591763263087756"
   ]
  },
  {
   "cell_type": "markdown",
   "metadata": {},
   "source": [
    "Please enter the upper bound of your confidence interval (e.g. if the confidence Interval is [-1.00, 2.00], enter 2.00)  = 38.22913569692153"
   ]
  },
  {
   "cell_type": "code",
   "execution_count": null,
   "metadata": {},
   "outputs": [],
   "source": []
  },
  {
   "cell_type": "code",
   "execution_count": null,
   "metadata": {},
   "outputs": [],
   "source": []
  },
  {
   "cell_type": "code",
   "execution_count": null,
   "metadata": {},
   "outputs": [],
   "source": []
  },
  {
   "cell_type": "code",
   "execution_count": null,
   "metadata": {},
   "outputs": [],
   "source": []
  },
  {
   "cell_type": "code",
   "execution_count": null,
   "metadata": {},
   "outputs": [],
   "source": []
  },
  {
   "cell_type": "markdown",
   "metadata": {},
   "source": [
    "<font size=5>T-Test Assumptions</font>\n",
    "1. The first assumption made regarding t-tests concerns the scale of measurement. The assumption for a t-test is that the scale of measurement applied to the data collected follows a continuous or ordinal scale, such as the scores for an IQ test.\n",
    "2. The second assumption made is that of a simple random sample, that the data is collected from a representative, randomly selected portion of the total population.\n",
    "3. The third assumption is the data, when plotted, results in a normal distribution, bell-shaped distribution curve. When a normal distribution is assumed, one can specify a level of probability (alpha level, level of significance, p) as a criterion for acceptance. In most cases, a 5% value can be assumed.\n",
    "4. The fourth assumption is a reasonably large sample size is used. A larger sample size means the distribution of results should approach a normal bell-shaped curve.\n",
    "5. The final assumption is homogeneity of variance. Homogeneous, or equal, variance exists when the standard deviations of samples are approximately equal."
   ]
  },
  {
   "cell_type": "code",
   "execution_count": null,
   "metadata": {},
   "outputs": [],
   "source": []
  },
  {
   "cell_type": "markdown",
   "metadata": {},
   "source": [
    "N > 100 T-distribution equal to normal distribution"
   ]
  },
  {
   "cell_type": "markdown",
   "metadata": {},
   "source": [
    "Initial hypothesis: change the UI from A to B will increase customer active minutes on this page \n",
    "\n",
    "Which metric to use?\n",
    "* Total minutes per group? No, Total minues from Group A or Group B can not real reflct in impact\n",
    "* Total minutes per user? No, We have two group, we need caculate active minutes by group classification\n",
    "* Total minutes per user in each group? We split group into control group and experinment group. If we groupby 'uid', we got 40000 control group and 10000 experinment. The data points will be 40000: 10000\n",
    "* Total minutes per user per day in each group? Further more, the data point will be each raw data point without any preprocess"
   ]
  },
  {
   "cell_type": "markdown",
   "metadata": {},
   "source": [
    "If we envolve all user pre-experiment data, we might need to caculate the difference between different time and ratio of increase/all data point.\n",
    "\n",
    "(unique user who increase time spend) / (unique users who accessd in this group)"
   ]
  },
  {
   "cell_type": "code",
   "execution_count": null,
   "metadata": {},
   "outputs": [],
   "source": []
  },
  {
   "cell_type": "code",
   "execution_count": null,
   "metadata": {},
   "outputs": [],
   "source": []
  },
  {
   "cell_type": "markdown",
   "metadata": {},
   "source": [
    "# <a id=\"2.Table of Contents\">2.Tabole of Contents</a>\n",
    "<a href=\"#1.Summary\">Click this Link back to Top</a>"
   ]
  },
  {
   "cell_type": "markdown",
   "metadata": {},
   "source": [
    "<ol>\n",
    "    <li><a href=\"#1.Summary\">Summary</a></li>\n",
    "    <li><a href=\"#2.Tabole of Contents\">Tabole of Contents</a></li>\n",
    "    <li><a href=\"#3.Preprocess\">Preprocess</a>\n",
    "    <ul>\n",
    "        <li><a href=\"#3.1 Hyperparameter\">3.1 Hyperparameter</a></li>\n",
    "        <li><a href=\"#3.2 Import Data\">3.2 Import Data</a></li>\n",
    "        <li><a href=\"#3.3 Clean Data\">3.3 Clean Data</a></li> \n",
    "        <li><a href=\"#3.4 Tokenize\">3.4 Tokenize</a></li> \n",
    "        <li><a href=\"#3.5 Label Processing\">3.5 Label Processing</a></li>  \n",
    "        <li><a href=\"#3.6 EDA\">3.6 EDA</a></li>  \n",
    "    </ul>\n",
    "    </li>\n",
    "    <li><a href=\"#4.Word2Vect\">Word2Vect</a>\n",
    "    <ul>\n",
    "        <li><del><a href=\"#TFIDF\">4.1 TFIDF</a></del></li>\n",
    "        <li><del><a href=\"#Embedding\">4.2 Embedding</a></del></li>\n",
    "        <li><a href=\"#Glove Vector\">4.3 Glove Vector</a></li>\n",
    "        <li><a href=\"#BERT Vector\">4.4 BERT Vector</a></li> \n",
    "        <li><a href=\"#Split and Compile\">4.5 Split and Compile</a></li> \n",
    "    </ul>\n",
    "    </li>\n",
    "    <li><a href=\"#5.Classify\">Classify</a></li>\n",
    "    <li><a href=\"#6.Models\">Models</a>\n",
    "    <ul>\n",
    "        <li><a href=\"#6.1 DNN\">6.1 DNN</a></li>\n",
    "        <li><a href=\"#6.2 CNN\">6.2 CNN</a></li>\n",
    "        <li><a href=\"#6.3 RNN\">6.3 RNN</a></li>\n",
    "        <li><a href=\"#6.4 BERT\">6.4 BERT</a></li>\n",
    "        <li><a href=\"#6.5 Seq2Seq\">6.5 Seq2Seq</a></li>\n",
    "        <li><a href=\"#6.9 Save\">6.9 Save</a></li>\n",
    "    </ul>\n",
    "    </li>\n",
    "    <li><a href=\"#7.Analysis and Plot\">Analysis and Plot</a></li>\n",
    "    <ul>\n",
    "        <li><a href=\"#7.1 Analysis\">7.1 Analysis</a></li>\n",
    "        <li><a href=\"7.2 Spearmanr\">7.2 Spearmanr</a></li>\n",
    "    </ul>\n",
    "    <li><a href=\"#8.Main Function\">Main Function</a></li>\n",
    "    <li><a href=\"#9.Test Code\">Test Code</a></li>\n",
    "</ol>"
   ]
  },
  {
   "cell_type": "markdown",
   "metadata": {},
   "source": [
    "<br>"
   ]
  },
  {
   "cell_type": "markdown",
   "metadata": {},
   "source": [
    "# <a id=\"3.Preprocess\">3.Preprocess</a>\n",
    "<a href=\"#2.Table of Contents\">Click this Link back to Top</a>"
   ]
  },
  {
   "cell_type": "markdown",
   "metadata": {},
   "source": [
    "# <a id=\"3.1 Hyperparameters\">3.1 Hyperparameters</a>\n",
    "<a href=\"#2.Table of Contents\">Click this Link back to Top</a>"
   ]
  },
  {
   "cell_type": "code",
   "execution_count": 1,
   "metadata": {},
   "outputs": [],
   "source": [
    "class HyperParameters(object):\n",
    "    \"\"\":arg\n",
    "    This class will be used to transmit hyperparameters between class.parameters\n",
    "    Most of class can inherit this class and its hyperparameters\n",
    "    \n",
    "    \n",
    "    \n",
    "    \n",
    "    \"\"\"\n",
    "    def __init__(self):\n",
    "        \"\"\":arg\n",
    "\n",
    "\n",
    "\n",
    "        \"\"\"\n",
    "        # we use this to test whether other class read HyperParameters() successfully\n",
    "        self.TEST = 1\n",
    "\n",
    "        # you can change this root path in this class and import_data() function will search from this root dictionary\n",
    "        self.ROOTPATH = 'D:\\\\OneDrive\\\\03_Academic\\\\23_Github\\\\44_Quora_Data_Challenge\\\\03_data'\n",
    "\n",
    "        # confidence inveral value\n",
    "        self.ALPHA = 0.95"
   ]
  },
  {
   "cell_type": "markdown",
   "metadata": {},
   "source": [
    "# <a id=\"3.2 Import Data\">3.2 Import Data</a>\n",
    "<a href=\"#2.Table of Contents\">Click this Link back to Top</a>"
   ]
  },
  {
   "cell_type": "code",
   "execution_count": 2,
   "metadata": {},
   "outputs": [],
   "source": [
    "from class_31_hyperparameters import HyperParameters\n",
    "\n",
    "import pandas as pd\n",
    "# measure running time\n",
    "from time import time\n",
    "\n",
    "import os\n",
    "\n",
    "\n",
    "class ImportData(HyperParameters):\n",
    "    \"\"\":arg\n",
    "\n",
    "\n",
    "    \"\"\"\n",
    "    def __init__(self):\n",
    "        \"\"\":arg\n",
    "        \"\"\"\n",
    "        HyperParameters.__init__(self)\n",
    "\n",
    "    def import_data(self):\n",
    "        \"\"\":arg\n",
    "        Use this function to complete import data process\n",
    "        \"\"\"\n",
    "        print(\"*\" * 50, \"Start import data\", \"*\" * 50)\n",
    "        start_time = time()\n",
    "\n",
    "        path_t1 = os.path.join(self.ROOTPATH, 't1_user_active_min.csv')\n",
    "        path_t2 = os.path.join(self.ROOTPATH, 't2_user_variant.csv')\n",
    "        path_t3 = os.path.join(self.ROOTPATH, 't3_user_active_min_pre.csv')\n",
    "        path_t4 = os.path.join(self.ROOTPATH, '9999')\n",
    "        \n",
    "        df_t1 = pd.read_csv(path_t1)\n",
    "        df_t2 = pd.read_csv(path_t2)\n",
    "        df_t3 = pd.read_csv(path_t3)\n",
    "        df_t4 = pd.read_csv(path_t4)\n",
    "\n",
    "        return (df_t1, df_t2, df_t3, df_t4)\n"
   ]
  },
  {
   "cell_type": "markdown",
   "metadata": {},
   "source": [
    "<br>"
   ]
  },
  {
   "cell_type": "markdown",
   "metadata": {},
   "source": [
    "<br>"
   ]
  },
  {
   "cell_type": "markdown",
   "metadata": {},
   "source": [
    "<br>"
   ]
  },
  {
   "cell_type": "markdown",
   "metadata": {},
   "source": [
    "# <a id=\"3.3.EDA\">3.3.EDA</a>\n",
    "<a href=\"#2.Table of Contents\">Click this Link back to Top</a>"
   ]
  },
  {
   "cell_type": "code",
   "execution_count": 3,
   "metadata": {},
   "outputs": [],
   "source": [
    "from class_31_hyperparameters import HyperParameters\n",
    "\n",
    "# use sns for visulization\n",
    "import seaborn as sns\n",
    "# numpy\n",
    "import numpy as np\n",
    "# solve statistical problem\n",
    "from scipy import stats\n",
    "\n",
    "class EDA(HyperParameters):\n",
    "    \"\"\":arg\n",
    "    Preproceess EDA\n",
    "\n",
    "\n",
    "\n",
    "    \"\"\"\n",
    "    def __init__(self):\n",
    "        \"\"\":arg\n",
    "        \"\"\"\n",
    "        HyperParameters.__init__(self)\n",
    "\n",
    "    def outlier_eda(self, df):\n",
    "        \"\"\":arg\n",
    "        We use several way to detect and remove outliers\n",
    "\n",
    "        Args:\n",
    "        -------\n",
    "        df:DataFrame\n",
    "            This can be data_t1 or data_t3. These two dataframe need ourlier detect and clean\n",
    "\n",
    "        \"\"\"\n",
    "        # first we need to make sure this is outlier or error exist\n",
    "        # we use boxplot() to demenstrate outliers\n",
    "        sns.boxplot(x=df['active_mins'])\n",
    "        # use z-score to eliminate outliers, the output is for indivudal data point\n",
    "        z_score = np.abs(stats.zscore(df['active_mins']))\n",
    "        # set a z-score threshold, any greater than this value will be eliminate\n",
    "        z_threshold = 3\n",
    "        print(z_threshold)\n",
    "        # filter that ooutlier rows in dataframe\n",
    "        index_outlier = np.where(z_score > z_threshold)\n",
    "        # print out result\n",
    "        print('We have {} data points are outliers'.format(len(index_outlier[0])))\n",
    "        # drop these rows by index\n",
    "        df = df.drop(index_outlier[0])\n",
    "\n",
    "        return df\n"
   ]
  },
  {
   "cell_type": "markdown",
   "metadata": {},
   "source": [
    "<br>"
   ]
  },
  {
   "cell_type": "markdown",
   "metadata": {},
   "source": [
    "<br>"
   ]
  },
  {
   "cell_type": "markdown",
   "metadata": {},
   "source": [
    "<br>"
   ]
  },
  {
   "cell_type": "markdown",
   "metadata": {},
   "source": [
    "# <a id=\"3.4 Join Data\">3.4 Join Data</a>\n",
    "<a href=\"#2.Table of Contents\">Click this Link back to Top</a>"
   ]
  },
  {
   "cell_type": "code",
   "execution_count": 4,
   "metadata": {},
   "outputs": [],
   "source": [
    "from class_31_hyperparameters import HyperParameters\n",
    "\n",
    "import pandas as pd\n",
    "# test normal distribution\n",
    "from scipy import stats\n",
    "\n",
    "class JoinData(HyperParameters):\n",
    "    \"\"\":arg\n",
    "    \"\"\"\n",
    "\n",
    "    def __init__(self):\n",
    "        \"\"\":arg\n",
    "        \"\"\"\n",
    "        HyperParameters.__init__(self)\n",
    "\n",
    "    def join_data_uid(self, df_t1, df_t2, df_t3, df_t4):\n",
    "        \"\"\":arg\n",
    "        We use function join to dataframe\n",
    "\n",
    "\n",
    "        \"\"\"\n",
    "        # outer join df_t1 and df_t2 by uid\n",
    "        df_t1t2 = pd.merge(df_t1, df_t2, on=['uid'], how='outer')\n",
    "        # clean data drop NaN by row\n",
    "        df_clean = df_t1t2.dropna(axis=0)\n",
    "        # print clearn process\n",
    "        print(\"Before {}, After {}\".format(df_t1t2.shape[0], df_clean.shape[0]))\n",
    "        # split into control group and treatment group and aggregate by user\n",
    "        df_control = df_clean[df_clean['variant_number'] == 0].groupby(['uid'], as_index=False)['active_mins'].sum()\n",
    "        # unit is total time spend per user per group, sometimes average or middle might have more meanning\n",
    "        df_treat = df_clean[df_clean['variant_number'] == 1].groupby(['uid'], as_index=False)['active_mins'].sum()\n",
    "\n",
    "        return df_clean, df_control, df_treat\n",
    "\n",
    "    def join_data_group(self, df_t1, df_t2, df_t3, df_t4):\n",
    "        \"\"\":arg\n",
    "        We use function join to dataframe\n",
    "\n",
    "\n",
    "        \"\"\"\n",
    "        # outer join df_t1 and df_t2 by uid\n",
    "        df_t1t2 = pd.merge(df_t1, df_t2, on=['uid'], how='outer')\n",
    "        # clean data drop NaN by row\n",
    "        df_clean = df_t1t2.dropna(axis=0)\n",
    "        # print clearn process\n",
    "        print(\"Before {}, After {}\".format(df_t1t2.shape[0], df_clean.shape[0]))\n",
    "        # split into control group and treatment group and aggregate by user\n",
    "        df_control = df_clean[df_clean['variant_number'] == 0].groupby(['dt_x'], as_index=False)['active_mins'].sum()\n",
    "        # unit is total time spend per user per group, sometimes average or middle might have more meanning\n",
    "        df_treat = df_clean[df_clean['variant_number'] == 1].groupby(['dt_x'], as_index=False)['active_mins'].sum()\n",
    "\n",
    "        return df_clean, df_control, df_treat\n",
    "\n",
    "    def join_data_dt(self, df_t1, df_t2, df_t3, df_t4):\n",
    "        \"\"\":arg\n",
    "        I choose the unit is 'Total minutes per user per day in each group.\n",
    "        First, we split data into control (not chagne)  and treatment (changed) group\n",
    "        Second, we aggregate data records (88197 / 34175) in each group by date(['dt_x']\n",
    "        This meaning is, in this group, everyday the total minutes from user log in action\n",
    "        Typically, we have different log in user number in this whole 150 experiment days.\n",
    "        Third, we divide everyday total mintues by the number of user who log in this day.\n",
    "\n",
    "        They we can test them with normal distribution. If you want to calculate t-test, our dataset need to\n",
    "        be normal distribution (stats.shapiro(df))\n",
    "\n",
    "\n",
    "        \"\"\"\n",
    "        # outer join df_t1 and df_t2 by uid\n",
    "        df_t1t2 = pd.merge(df_t1, df_t2, on=['uid'], how='outer')\n",
    "        # clean data drop NaN by row\n",
    "        df_clean = df_t1t2.dropna(axis=0)\n",
    "        # print clearn process\n",
    "        print(\"Before {}, After {}\".format(df_t1t2.shape[0], df_clean.shape[0]))\n",
    "        # split into control group and treatment group and aggregate by user\n",
    "        df_dt_control = df_clean[df_clean['variant_number'] == 0].groupby(['dt_x'], as_index=False)['active_mins'].sum()\n",
    "        # unit is total time spend per user per group, sometimes average or middle might have more meanning\n",
    "        df_dt_treat = df_clean[df_clean['variant_number'] == 1].groupby(['dt_x'], as_index=False)['active_mins'].sum()\n",
    "        # we caculate how many user log in each day\n",
    "        df_usr_control = df_clean[df_clean['variant_number']==0].groupby(['dt_x'], as_index=False)['uid'].count()\n",
    "        # caculate how many user login each day in treatment group\n",
    "        df_usr_treat = df_clean[df_clean['variant_number']==1].groupby(['dt_x'], as_index=False)['uid'].count()\n",
    "\n",
    "        # (total minutes per day) / (number of users who login in each day)\n",
    "        df_control = df_dt_control['active_mins'].divide(df_usr_control['uid'])\n",
    "        df_treat = df_dt_treat['active_mins'].divide(df_usr_treat['uid'])\n",
    "\n",
    "        print('For df_control, its normal distribution test is {}'.format(stats.shapiro(df_control)))\n",
    "        print('For df_treat, its normal distribution test is {}'.format(stats.shapiro(df_treat)))\n",
    "\n",
    "        return df_clean, df_control, df_treat\n",
    "\n"
   ]
  },
  {
   "cell_type": "markdown",
   "metadata": {},
   "source": [
    "<br>"
   ]
  },
  {
   "cell_type": "markdown",
   "metadata": {},
   "source": [
    "<br>"
   ]
  },
  {
   "cell_type": "markdown",
   "metadata": {},
   "source": [
    "<br>"
   ]
  },
  {
   "cell_type": "markdown",
   "metadata": {},
   "source": [
    "# <a id=\"3.5 Hypothesis\">3.5 Hypothesis</a>\n",
    "<a href=\"#2.Table of Contents\">Click this Link back to Top</a>"
   ]
  },
  {
   "cell_type": "code",
   "execution_count": 32,
   "metadata": {},
   "outputs": [],
   "source": [
    "from class_31_hyperparameters import HyperParameters\n",
    "\n",
    "import numpy as np\n",
    "import seaborn as sns\n",
    "# this model will output degree of freedom\n",
    "import statsmodels.stats.weightstats as st\n",
    "from scipy import stats\n",
    "\n",
    "\n",
    "class Hypothesis(HyperParameters):\n",
    "    \"\"\":arg\n",
    "    We use this class to calculate statical data and judge reject or accept hypothesis\n",
    "\n",
    "    \"\"\"\n",
    "    def __init__(self):\n",
    "        \"\"\":arg\n",
    "        \"\"\"\n",
    "        HyperParameters.__init__(self)\n",
    "\n",
    "\n",
    "    def ttest_ind(self, df_control, df_treat):\n",
    "        \"\"\":arg\n",
    "\n",
    "\n",
    "        Args:\n",
    "        ------\n",
    "        df_control:Series\n",
    "\n",
    "        \"\"\"\n",
    "        print('Distribution of control group')\n",
    "        sns.boxplot(x = df_control)\n",
    "        sns.distplot(df_control)\n",
    "\n",
    "        # caculate t-test for tow independtant dataset\n",
    "        # because we caculate with total minutes, so the user rate 40000:10000 is imbalance\n",
    "        # we need divide df_control with 4 to achieve same total minutes for 10000 users\n",
    "        # t_value is t statical\n",
    "        t_value, p_two, degree_free = st.ttest_ind(x1 = df_control\n",
    "                                                   , x2 = df_treat\n",
    "                                                   , usevar='unequal')\n",
    "        # use a diiffernt function for t-test\n",
    "        t_stat, p_value = stats.ttest_ind(df_control, df_treat, equal_var=False)\n",
    "        # default confidence interval is 95%, so one side alpha = (1-95%)/2 = 0.025\n",
    "        if (p_two < 1-self.ALPHA):\n",
    "            print('P-value {} < {}'.format(p_two, 1-self.ALPHA))\n",
    "            print('Reject H0 (control and treatment dont have siginificent differnet) hypothesis')\n",
    "            print('Accept H1 (control and treatment have siginificent different) hypothesis')\n",
    "        else:\n",
    "            print('P-value {} > {}'.format(p_two, 1 - self.ALPHA))\n",
    "            print('Accept H0 (control and treatment dont have siginificent differnet) hypothesis')\n",
    "            print('Reject H1 (control and treatment have siginificent different) hypothesis')\n",
    "\n",
    "        # start cacualte confidence interval (right tail=0.025) (two tail=0.05)\n",
    "        # we have 150-200 data point, so when check t-distribution table,\n",
    "        t_ci = stats.t.ppf(q = self.ALPHA, df=150)\n",
    "        # sample number\n",
    "        control_num = df_control.shape[0]\n",
    "        treat_num = df_treat.shape[0]\n",
    "        # cacualte stand diviation\n",
    "        control_std = df_control.std()\n",
    "        treat_std = df_treat.std()\n",
    "        # cacualte se\n",
    "        se = np.sqrt( np.square(control_std)/control_num + np.square(treat_std)/treat_num)\n",
    "        #\n",
    "        sample_mean = df_control.mean() - df_treat.mean()\n",
    "        # calcuate confidenal interval\n",
    "        upper_bound = sample_mean - t_ci * se\n",
    "        lower_bound = sample_mean + t_ci * se\n",
    "        print(upper_bound, lower_bound)\n",
    "\n",
    "        return (t_value, p_two, degree_free, t_stat, p_value, upper_bound, lower_bound)\n",
    "\n",
    "\n",
    "\n"
   ]
  },
  {
   "cell_type": "code",
   "execution_count": null,
   "metadata": {},
   "outputs": [],
   "source": []
  },
  {
   "cell_type": "code",
   "execution_count": null,
   "metadata": {},
   "outputs": [],
   "source": []
  },
  {
   "cell_type": "code",
   "execution_count": null,
   "metadata": {},
   "outputs": [],
   "source": []
  },
  {
   "cell_type": "code",
   "execution_count": null,
   "metadata": {},
   "outputs": [],
   "source": []
  },
  {
   "cell_type": "markdown",
   "metadata": {},
   "source": [
    "# <a id=\"7 Main Function\">7 Main Function</a>\n",
    "<a href=\"#2.Table of Contents\">Click this Link back to Top</a>"
   ]
  },
  {
   "cell_type": "code",
   "execution_count": 33,
   "metadata": {},
   "outputs": [
    {
     "name": "stdout",
     "output_type": "stream",
     "text": [
      "************************************************** Start import data **************************************************\n",
      "We have 172 data points are outliers\n",
      "Before 1069597, After 1066230\n",
      "For df_control, its normal distribution test is ShapiroResult(statistic=0.9935927987098694, pvalue=0.7472291588783264)\n",
      "For df_treat, its normal distribution test is ShapiroResult(statistic=0.8703024983406067, pvalue=3.8012573644330416e-10)\n",
      "Distribution of control group\n",
      "P-value 3.032418523035919e-35 < 0.050000000000000044\n",
      "Reject H0 (control and treatment dont have siginificent differnet) hypothesis\n",
      "Accept H1 (control and treatment have siginificent different) hypothesis\n",
      "-4.509893654334767 -3.665273229338887\n",
      "OVER\n"
     ]
    },
    {
     "name": "stderr",
     "output_type": "stream",
     "text": [
      "D:\\ProgramData\\Anaconda3\\envs\\08_web_mining\\lib\\site-packages\\seaborn\\distributions.py:2551: FutureWarning: `distplot` is a deprecated function and will be removed in a future version. Please adapt your code to use either `displot` (a figure-level function with similar flexibility) or `histplot` (an axes-level function for histograms).\n",
      "  warnings.warn(msg, FutureWarning)\n"
     ]
    },
    {
     "data": {
      "image/png": "[encoded data removed]",
      "text/plain": [
       "<Figure size 432x288 with 1 Axes>"
      ]
     },
     "metadata": {
      "needs_background": "light"
     },
     "output_type": "display_data"
    }
   ],
   "source": [
    "# from class_31_hyperparameters import HyperParameters\n",
    "# from class_32_import_data import ImportData\n",
    "# from class_33_eda import EDA\n",
    "# from class_34_join_data import JoinData\n",
    "# from class_35_hypothesis import Hypothesis\n",
    "\n",
    "\n",
    "def main():\n",
    "    \"\"\":arg\n",
    "    All program running here by sequence\n",
    "\n",
    "    1.import data\n",
    "    2.Through EDA delete outliers\n",
    "    3.Join data and split control and treatment\n",
    "\n",
    "    \"\"\"\n",
    "    class_import = ImportData()\n",
    "    (df_t1, df_t2, df_t3, df_t4) = class_import.import_data()\n",
    "\n",
    "    class_eda = EDA()\n",
    "    # clean df_t1 dataframe by deleting outliers\n",
    "    df_t1 = class_eda.outlier_eda(df_t1)\n",
    "\n",
    "    class_join = JoinData()\n",
    "    # outer join t1 table and t2 table\n",
    "    df_clean, df_control, df_treat = class_join.join_data_dt(df_t1, df_t2, df_t3, df_t4)\n",
    "\n",
    "    class_hypo = Hypothesis()\n",
    "    (t_value, p_two, degree_free\n",
    "     , t_stat, p_value, upper_bound, lower_bound) = class_hypo.ttest_ind(df_control, df_treat)\n",
    "\n",
    "\n",
    "    return (df_t1, df_t2, df_t3, df_t4, df_clean, df_control, df_treat\n",
    "            , t_value, p_two, degree_free, t_stat, p_value, upper_bound, lower_bound)\n",
    "\n",
    "\n",
    "if __name__==\"__main__\":\n",
    "    \"\"\":arg\n",
    "    \"\"\"\n",
    "    (df_t1, df_t2, df_t3, df_t4, df_clean, df_control, df_treat\n",
    "     , t_value, p_two, degree_free, t_stat, p_value, upper_bound, lower_bound) = main()\n",
    "\n",
    "    print('OVER')"
   ]
  },
  {
   "cell_type": "code",
   "execution_count": null,
   "metadata": {},
   "outputs": [],
   "source": []
  },
  {
   "cell_type": "markdown",
   "metadata": {},
   "source": [
    "# <a id=\"9.Test Code\">9.Test Code</a>\n",
    "<a href=\"#2.Table of Contents\">Click this Link back to Top</a>"
   ]
  },
  {
   "cell_type": "code",
   "execution_count": 25,
   "metadata": {},
   "outputs": [
    {
     "data": {
      "text/plain": [
       "(1190093, 3)"
      ]
     },
     "execution_count": 25,
     "metadata": {},
     "output_type": "execute_result"
    }
   ],
   "source": [
    "df_t3.shape"
   ]
  },
  {
   "cell_type": "code",
   "execution_count": 27,
   "metadata": {},
   "outputs": [
    {
     "data": {
      "text/html": [
       "<div>\n",
       "<style scoped>\n",
       "    .dataframe tbody tr th:only-of-type {\n",
       "        vertical-align: middle;\n",
       "    }\n",
       "\n",
       "    .dataframe tbody tr th {\n",
       "        vertical-align: top;\n",
       "    }\n",
       "\n",
       "    .dataframe thead th {\n",
       "        text-align: right;\n",
       "    }\n",
       "</style>\n",
       "<table border=\"1\" class=\"dataframe\">\n",
       "  <thead>\n",
       "    <tr style=\"text-align: right;\">\n",
       "      <th></th>\n",
       "      <th>uid</th>\n",
       "      <th>active_mins</th>\n",
       "    </tr>\n",
       "  </thead>\n",
       "  <tbody>\n",
       "    <tr>\n",
       "      <th>count</th>\n",
       "      <td>1.190093e+06</td>\n",
       "      <td>1.190093e+06</td>\n",
       "    </tr>\n",
       "    <tr>\n",
       "      <th>mean</th>\n",
       "      <td>2.420589e+04</td>\n",
       "      <td>3.220315e+01</td>\n",
       "    </tr>\n",
       "    <tr>\n",
       "      <th>std</th>\n",
       "      <td>1.417999e+04</td>\n",
       "      <td>1.181531e+03</td>\n",
       "    </tr>\n",
       "    <tr>\n",
       "      <th>min</th>\n",
       "      <td>0.000000e+00</td>\n",
       "      <td>1.000000e+00</td>\n",
       "    </tr>\n",
       "    <tr>\n",
       "      <th>25%</th>\n",
       "      <td>1.197500e+04</td>\n",
       "      <td>2.000000e+00</td>\n",
       "    </tr>\n",
       "    <tr>\n",
       "      <th>50%</th>\n",
       "      <td>2.393200e+04</td>\n",
       "      <td>4.000000e+00</td>\n",
       "    </tr>\n",
       "    <tr>\n",
       "      <th>75%</th>\n",
       "      <td>3.619600e+04</td>\n",
       "      <td>1.400000e+01</td>\n",
       "    </tr>\n",
       "    <tr>\n",
       "      <th>max</th>\n",
       "      <td>4.999900e+04</td>\n",
       "      <td>9.999900e+04</td>\n",
       "    </tr>\n",
       "  </tbody>\n",
       "</table>\n",
       "</div>"
      ],
      "text/plain": [
       "                uid   active_mins\n",
       "count  1.190093e+06  1.190093e+06\n",
       "mean   2.420589e+04  3.220315e+01\n",
       "std    1.417999e+04  1.181531e+03\n",
       "min    0.000000e+00  1.000000e+00\n",
       "25%    1.197500e+04  2.000000e+00\n",
       "50%    2.393200e+04  4.000000e+00\n",
       "75%    3.619600e+04  1.400000e+01\n",
       "max    4.999900e+04  9.999900e+04"
      ]
     },
     "execution_count": 27,
     "metadata": {},
     "output_type": "execute_result"
    }
   ],
   "source": [
    "df_t3.describe()"
   ]
  },
  {
   "cell_type": "code",
   "execution_count": 28,
   "metadata": {},
   "outputs": [
    {
     "data": {
      "text/html": [
       "<div>\n",
       "<style scoped>\n",
       "    .dataframe tbody tr th:only-of-type {\n",
       "        vertical-align: middle;\n",
       "    }\n",
       "\n",
       "    .dataframe tbody tr th {\n",
       "        vertical-align: top;\n",
       "    }\n",
       "\n",
       "    .dataframe thead th {\n",
       "        text-align: right;\n",
       "    }\n",
       "</style>\n",
       "<table border=\"1\" class=\"dataframe\">\n",
       "  <thead>\n",
       "    <tr style=\"text-align: right;\">\n",
       "      <th></th>\n",
       "      <th>uid</th>\n",
       "      <th>dt</th>\n",
       "      <th>active_mins</th>\n",
       "    </tr>\n",
       "  </thead>\n",
       "  <tbody>\n",
       "    <tr>\n",
       "      <th>0</th>\n",
       "      <td>0</td>\n",
       "      <td>2018-09-24</td>\n",
       "      <td>3.0</td>\n",
       "    </tr>\n",
       "    <tr>\n",
       "      <th>1</th>\n",
       "      <td>0</td>\n",
       "      <td>2018-11-08</td>\n",
       "      <td>4.0</td>\n",
       "    </tr>\n",
       "    <tr>\n",
       "      <th>2</th>\n",
       "      <td>0</td>\n",
       "      <td>2018-11-24</td>\n",
       "      <td>3.0</td>\n",
       "    </tr>\n",
       "    <tr>\n",
       "      <th>3</th>\n",
       "      <td>0</td>\n",
       "      <td>2018-11-28</td>\n",
       "      <td>6.0</td>\n",
       "    </tr>\n",
       "    <tr>\n",
       "      <th>4</th>\n",
       "      <td>0</td>\n",
       "      <td>2018-12-02</td>\n",
       "      <td>6.0</td>\n",
       "    </tr>\n",
       "    <tr>\n",
       "      <th>...</th>\n",
       "      <td>...</td>\n",
       "      <td>...</td>\n",
       "      <td>...</td>\n",
       "    </tr>\n",
       "    <tr>\n",
       "      <th>1190088</th>\n",
       "      <td>49999</td>\n",
       "      <td>2018-09-15</td>\n",
       "      <td>5.0</td>\n",
       "    </tr>\n",
       "    <tr>\n",
       "      <th>1190089</th>\n",
       "      <td>49999</td>\n",
       "      <td>2018-09-26</td>\n",
       "      <td>8.0</td>\n",
       "    </tr>\n",
       "    <tr>\n",
       "      <th>1190090</th>\n",
       "      <td>49999</td>\n",
       "      <td>2018-10-20</td>\n",
       "      <td>29.0</td>\n",
       "    </tr>\n",
       "    <tr>\n",
       "      <th>1190091</th>\n",
       "      <td>49999</td>\n",
       "      <td>2018-12-14</td>\n",
       "      <td>3.0</td>\n",
       "    </tr>\n",
       "    <tr>\n",
       "      <th>1190092</th>\n",
       "      <td>49999</td>\n",
       "      <td>2019-01-28</td>\n",
       "      <td>32.0</td>\n",
       "    </tr>\n",
       "  </tbody>\n",
       "</table>\n",
       "<p>1190093 rows × 3 columns</p>\n",
       "</div>"
      ],
      "text/plain": [
       "           uid          dt  active_mins\n",
       "0            0  2018-09-24          3.0\n",
       "1            0  2018-11-08          4.0\n",
       "2            0  2018-11-24          3.0\n",
       "3            0  2018-11-28          6.0\n",
       "4            0  2018-12-02          6.0\n",
       "...        ...         ...          ...\n",
       "1190088  49999  2018-09-15          5.0\n",
       "1190089  49999  2018-09-26          8.0\n",
       "1190090  49999  2018-10-20         29.0\n",
       "1190091  49999  2018-12-14          3.0\n",
       "1190092  49999  2019-01-28         32.0\n",
       "\n",
       "[1190093 rows x 3 columns]"
      ]
     },
     "execution_count": 28,
     "metadata": {},
     "output_type": "execute_result"
    }
   ],
   "source": [
    "df_t3"
   ]
  },
  {
   "cell_type": "code",
   "execution_count": null,
   "metadata": {},
   "outputs": [],
   "source": []
  },
  {
   "cell_type": "code",
   "execution_count": null,
   "metadata": {},
   "outputs": [],
   "source": []
  },
  {
   "cell_type": "code",
   "execution_count": 23,
   "metadata": {},
   "outputs": [
    {
     "data": {
      "text/plain": [
       "-4.509893654334767"
      ]
     },
     "execution_count": 23,
     "metadata": {},
     "output_type": "execute_result"
    }
   ],
   "source": [
    "upper_bound"
   ]
  },
  {
   "cell_type": "code",
   "execution_count": 24,
   "metadata": {},
   "outputs": [
    {
     "data": {
      "text/plain": [
       "-3.665273229338887"
      ]
     },
     "execution_count": 24,
     "metadata": {},
     "output_type": "execute_result"
    }
   ],
   "source": [
    "lower_bound"
   ]
  },
  {
   "cell_type": "code",
   "execution_count": 8,
   "metadata": {},
   "outputs": [
    {
     "data": {
      "text/plain": [
       "0      19.893420\n",
       "1      20.235027\n",
       "2      20.529420\n",
       "3      19.662953\n",
       "4      20.119112\n",
       "         ...    \n",
       "145    19.716245\n",
       "146    18.977998\n",
       "147    19.840566\n",
       "148    19.897338\n",
       "149    19.860828\n",
       "Length: 150, dtype: float64"
      ]
     },
     "execution_count": 8,
     "metadata": {},
     "output_type": "execute_result"
    }
   ],
   "source": [
    "df_control"
   ]
  },
  {
   "cell_type": "code",
   "execution_count": 10,
   "metadata": {},
   "outputs": [
    {
     "data": {
      "text/plain": [
       "count    150.000000\n",
       "mean      19.323468\n",
       "std        0.646480\n",
       "min       17.732331\n",
       "25%       18.895117\n",
       "50%       19.278251\n",
       "75%       19.836096\n",
       "max       21.135562\n",
       "dtype: float64"
      ]
     },
     "execution_count": 10,
     "metadata": {},
     "output_type": "execute_result"
    }
   ],
   "source": [
    "df_control.describe()"
   ]
  },
  {
   "cell_type": "code",
   "execution_count": 11,
   "metadata": {},
   "outputs": [
    {
     "data": {
      "text/plain": [
       "count    150.000000\n",
       "mean      23.411051\n",
       "std        3.057468\n",
       "min       18.758485\n",
       "25%       21.385178\n",
       "50%       22.300901\n",
       "75%       24.437592\n",
       "max       32.389844\n",
       "dtype: float64"
      ]
     },
     "execution_count": 11,
     "metadata": {},
     "output_type": "execute_result"
    }
   ],
   "source": [
    "df_treat.describe()"
   ]
  },
  {
   "cell_type": "code",
   "execution_count": 13,
   "metadata": {},
   "outputs": [
    {
     "name": "stderr",
     "output_type": "stream",
     "text": [
      "D:\\ProgramData\\Anaconda3\\envs\\08_web_mining\\lib\\site-packages\\seaborn\\distributions.py:2551: FutureWarning: `distplot` is a deprecated function and will be removed in a future version. Please adapt your code to use either `displot` (a figure-level function with similar flexibility) or `histplot` (an axes-level function for histograms).\n",
      "  warnings.warn(msg, FutureWarning)\n"
     ]
    },
    {
     "data": {
      "text/plain": [
       "<AxesSubplot:ylabel='Density'>"
      ]
     },
     "execution_count": 13,
     "metadata": {},
     "output_type": "execute_result"
    },
    {
     "data": {
      "image/png": "[encoded data removed]",
      "text/plain": [
       "<Figure size 432x288 with 1 Axes>"
      ]
     },
     "metadata": {
      "needs_background": "light"
     },
     "output_type": "display_data"
    }
   ],
   "source": [
    "sns.distplot(df_control)"
   ]
  },
  {
   "cell_type": "code",
   "execution_count": 12,
   "metadata": {},
   "outputs": [
    {
     "name": "stderr",
     "output_type": "stream",
     "text": [
      "D:\\ProgramData\\Anaconda3\\envs\\08_web_mining\\lib\\site-packages\\seaborn\\distributions.py:2551: FutureWarning: `distplot` is a deprecated function and will be removed in a future version. Please adapt your code to use either `displot` (a figure-level function with similar flexibility) or `histplot` (an axes-level function for histograms).\n",
      "  warnings.warn(msg, FutureWarning)\n"
     ]
    },
    {
     "data": {
      "text/plain": [
       "<AxesSubplot:ylabel='Density'>"
      ]
     },
     "execution_count": 12,
     "metadata": {},
     "output_type": "execute_result"
    },
    {
     "data": {
      "image/png": "[encoded data removed]",
      "text/plain": [
       "<Figure size 432x288 with 1 Axes>"
      ]
     },
     "metadata": {
      "needs_background": "light"
     },
     "output_type": "display_data"
    }
   ],
   "source": [
    "sns.distplot(df_treat)"
   ]
  },
  {
   "cell_type": "code",
   "execution_count": 9,
   "metadata": {},
   "outputs": [
    {
     "data": {
      "text/plain": [
       "0      28.474670\n",
       "1      27.436468\n",
       "2      27.181484\n",
       "3      26.838880\n",
       "4      27.444191\n",
       "         ...    \n",
       "145    21.384615\n",
       "146    21.485224\n",
       "147    22.237192\n",
       "148    21.462128\n",
       "149    22.929389\n",
       "Length: 150, dtype: float64"
      ]
     },
     "execution_count": 9,
     "metadata": {},
     "output_type": "execute_result"
    }
   ],
   "source": [
    "df_treat"
   ]
  },
  {
   "cell_type": "code",
   "execution_count": 7,
   "metadata": {},
   "outputs": [
    {
     "data": {
      "text/plain": [
       "(-16.019643876306674, 1.0, 162.29643381428605)"
      ]
     },
     "execution_count": 7,
     "metadata": {},
     "output_type": "execute_result"
    }
   ],
   "source": [
    "t_value, p_two, degree_free"
   ]
  },
  {
   "cell_type": "code",
   "execution_count": null,
   "metadata": {},
   "outputs": [],
   "source": []
  },
  {
   "cell_type": "code",
   "execution_count": null,
   "metadata": {},
   "outputs": [],
   "source": []
  },
  {
   "cell_type": "code",
   "execution_count": null,
   "metadata": {},
   "outputs": [],
   "source": []
  },
  {
   "cell_type": "code",
   "execution_count": 295,
   "metadata": {},
   "outputs": [
    {
     "data": {
      "text/plain": [
       "2.059538552753294"
      ]
     },
     "execution_count": 295,
     "metadata": {},
     "output_type": "execute_result"
    }
   ],
   "source": [
    "stats.t.ppf(q=0.975, df=25)"
   ]
  },
  {
   "cell_type": "code",
   "execution_count": 297,
   "metadata": {},
   "outputs": [
    {
     "data": {
      "text/plain": [
       "1.652508100910269"
      ]
     },
     "execution_count": 297,
     "metadata": {},
     "output_type": "execute_result"
    }
   ],
   "source": [
    "stats.t.ppf(q=0.95, df=200)"
   ]
  },
  {
   "cell_type": "code",
   "execution_count": 255,
   "metadata": {},
   "outputs": [],
   "source": [
    "# caculate confidence internal right_tail =0.025 two_tail=0.05\n",
    "t_ci = 1.971 \n",
    "# sample number\n",
    "control_num = df_21.shape[0]\n",
    "treat_num = df_22.shape[0]"
   ]
  },
  {
   "cell_type": "code",
   "execution_count": 256,
   "metadata": {},
   "outputs": [
    {
     "data": {
      "text/plain": [
       "150"
      ]
     },
     "execution_count": 256,
     "metadata": {},
     "output_type": "execute_result"
    }
   ],
   "source": [
    "control_num"
   ]
  },
  {
   "cell_type": "code",
   "execution_count": 257,
   "metadata": {},
   "outputs": [],
   "source": [
    "control_std = df_21.std()\n",
    "treat_std = df_22.std()\n",
    "se = np.sqrt( np.square(control_std)/control_num + np.square(treat_std)/treat_num)\n",
    "\n",
    "sample_mean = df_21.mean() -  df_22.mean()\n",
    "sample_mean\n",
    "\n",
    "upper_bound = sample_mean - t_ci * se\n",
    "lower_bound = sample_mean + t_ci * se"
   ]
  },
  {
   "cell_type": "code",
   "execution_count": 258,
   "metadata": {},
   "outputs": [
    {
     "data": {
      "text/plain": [
       "(-0.03298816640548901, -0.022860283394956115)"
      ]
     },
     "execution_count": 258,
     "metadata": {},
     "output_type": "execute_result"
    }
   ],
   "source": [
    "upper_bound, lower_bound"
   ]
  },
  {
   "cell_type": "code",
   "execution_count": null,
   "metadata": {},
   "outputs": [],
   "source": []
  },
  {
   "cell_type": "code",
   "execution_count": null,
   "metadata": {},
   "outputs": [],
   "source": []
  },
  {
   "cell_type": "code",
   "execution_count": 133,
   "metadata": {},
   "outputs": [],
   "source": [
    "# caculate confidence internal right_tail =0.025 two_tail=0.05\n",
    "t_ci = 1.971 \n",
    "# sample number\n",
    "control_num = df_control.shape[0]\n",
    "treat_num = df_treat.shape[0]"
   ]
  },
  {
   "cell_type": "code",
   "execution_count": 134,
   "metadata": {},
   "outputs": [],
   "source": [
    "control_std = df_control['active_mins'].std()"
   ]
  },
  {
   "cell_type": "code",
   "execution_count": 135,
   "metadata": {},
   "outputs": [],
   "source": [
    "treat_std = df_treat['active_mins'].std()"
   ]
  },
  {
   "cell_type": "code",
   "execution_count": 136,
   "metadata": {},
   "outputs": [],
   "source": [
    "se = np.sqrt( np.square(control_std)/control_num + np.square(treat_std)/treat_num)"
   ]
  },
  {
   "cell_type": "code",
   "execution_count": 141,
   "metadata": {},
   "outputs": [
    {
     "data": {
      "text/plain": [
       "(458.2211623246493, 458.4024761077324)"
      ]
     },
     "execution_count": 141,
     "metadata": {},
     "output_type": "execute_result"
    }
   ],
   "source": [
    "df_control['active_mins'].mean(), df_treat['active_mins'].mean() "
   ]
  },
  {
   "cell_type": "code",
   "execution_count": 137,
   "metadata": {},
   "outputs": [
    {
     "data": {
      "text/plain": [
       "-0.1813137830831124"
      ]
     },
     "execution_count": 137,
     "metadata": {},
     "output_type": "execute_result"
    }
   ],
   "source": [
    "sample_mean = df_control['active_mins'].mean() -  df_treat['active_mins'].mean()\n",
    "sample_mean"
   ]
  },
  {
   "cell_type": "code",
   "execution_count": 138,
   "metadata": {},
   "outputs": [],
   "source": [
    "upper_bound = sample_mean - t_ci * se\n",
    "lower_bound = sample_mean + t_ci * se"
   ]
  },
  {
   "cell_type": "code",
   "execution_count": 139,
   "metadata": {},
   "outputs": [
    {
     "data": {
      "text/plain": [
       "-38.591763263087756"
      ]
     },
     "execution_count": 139,
     "metadata": {},
     "output_type": "execute_result"
    }
   ],
   "source": [
    "upper_bound"
   ]
  },
  {
   "cell_type": "code",
   "execution_count": 140,
   "metadata": {},
   "outputs": [
    {
     "data": {
      "text/plain": [
       "38.22913569692153"
      ]
     },
     "execution_count": 140,
     "metadata": {},
     "output_type": "execute_result"
    }
   ],
   "source": [
    "lower_bound"
   ]
  },
  {
   "cell_type": "code",
   "execution_count": null,
   "metadata": {},
   "outputs": [],
   "source": []
  },
  {
   "cell_type": "code",
   "execution_count": 210,
   "metadata": {},
   "outputs": [
    {
     "name": "stdout",
     "output_type": "stream",
     "text": [
      "37.5 150\n"
     ]
    },
    {
     "data": {
      "text/plain": [
       "2021.5178573516198"
      ]
     },
     "execution_count": 210,
     "metadata": {},
     "output_type": "execute_result"
    }
   ],
   "source": [
    "# caculate confidence internal right_tail =0.025 two_tail=0.05\n",
    "t_ci = 1.971 \n",
    "t_ci = 2.60\n",
    "# sample number\n",
    "control_num = df_control.shape[0]/4\n",
    "treat_num = df_treat.shape[0]\n",
    "print(control_num, treat_num)\n",
    "\n",
    "control_std = (df_control['active_mins']/4).std()\n",
    "treat_std = df_treat['active_mins'].std()\n",
    "\n",
    "se = np.sqrt( np.square(control_std)/control_num + np.square(treat_std)/treat_num)\n",
    "\n",
    "(df_control['active_mins']/4).mean(), df_treat['active_mins'].mean() \n",
    "\n",
    "sample_mean = (df_control['active_mins']/4).mean() -  df_treat['active_mins'].mean()\n",
    "sample_mean\n",
    "\n",
    "upper_bound = sample_mean - t_ci * se\n",
    "lower_bound = sample_mean + t_ci * se\n",
    "\n",
    "upper_bound\n",
    "lower_bound"
   ]
  },
  {
   "cell_type": "code",
   "execution_count": 211,
   "metadata": {},
   "outputs": [
    {
     "data": {
      "text/plain": [
       "-1138.0278573516218"
      ]
     },
     "execution_count": 211,
     "metadata": {},
     "output_type": "execute_result"
    }
   ],
   "source": [
    "upper_bound\n"
   ]
  },
  {
   "cell_type": "code",
   "execution_count": 212,
   "metadata": {},
   "outputs": [
    {
     "data": {
      "text/plain": [
       "1639.3343468615546"
      ]
     },
     "execution_count": 212,
     "metadata": {},
     "output_type": "execute_result"
    }
   ],
   "source": [
    "1639.3343468615546"
   ]
  },
  {
   "cell_type": "code",
   "execution_count": 205,
   "metadata": {},
   "outputs": [
    {
     "data": {
      "text/plain": [
       "28581.545"
      ]
     },
     "execution_count": 205,
     "metadata": {},
     "output_type": "execute_result"
    }
   ],
   "source": [
    "(df_control['active_mins']/4).mean()"
   ]
  },
  {
   "cell_type": "code",
   "execution_count": 206,
   "metadata": {},
   "outputs": [
    {
     "data": {
      "text/plain": [
       "28139.8"
      ]
     },
     "execution_count": 206,
     "metadata": {},
     "output_type": "execute_result"
    }
   ],
   "source": [
    "df_treat['active_mins'].mean()"
   ]
  },
  {
   "cell_type": "code",
   "execution_count": 213,
   "metadata": {},
   "outputs": [
    {
     "data": {
      "text/plain": [
       "607.6049451352387"
      ]
     },
     "execution_count": 213,
     "metadata": {},
     "output_type": "execute_result"
    }
   ],
   "source": [
    "se"
   ]
  },
  {
   "cell_type": "code",
   "execution_count": 214,
   "metadata": {},
   "outputs": [
    {
     "data": {
      "text/plain": [
       "2650.8065794906283"
      ]
     },
     "execution_count": 214,
     "metadata": {},
     "output_type": "execute_result"
    }
   ],
   "source": [
    "control_std"
   ]
  },
  {
   "cell_type": "code",
   "execution_count": 215,
   "metadata": {},
   "outputs": [
    {
     "data": {
      "text/plain": [
       "2650.8065794906283"
      ]
     },
     "execution_count": 215,
     "metadata": {},
     "output_type": "execute_result"
    }
   ],
   "source": [
    "(df_control['active_mins']/4).std()"
   ]
  },
  {
   "cell_type": "code",
   "execution_count": 216,
   "metadata": {},
   "outputs": [
    {
     "data": {
      "text/plain": [
       "10603.226317962513"
      ]
     },
     "execution_count": 216,
     "metadata": {},
     "output_type": "execute_result"
    }
   ],
   "source": [
    "(df_control['active_mins']).std()"
   ]
  },
  {
   "cell_type": "code",
   "execution_count": 118,
   "metadata": {},
   "outputs": [
    {
     "data": {
      "text/plain": [
       "(-0.009303964709989936, 0.9925767506273644, 13920.469441655145)"
      ]
     },
     "execution_count": 118,
     "metadata": {},
     "output_type": "execute_result"
    }
   ],
   "source": [
    "t_value, p_two, degree_free "
   ]
  },
  {
   "cell_type": "code",
   "execution_count": null,
   "metadata": {},
   "outputs": [],
   "source": []
  },
  {
   "cell_type": "code",
   "execution_count": null,
   "metadata": {},
   "outputs": [],
   "source": []
  },
  {
   "cell_type": "code",
   "execution_count": 573,
   "metadata": {},
   "outputs": [
    {
     "data": {
      "text/plain": [
       "(9208, 2)"
      ]
     },
     "execution_count": 573,
     "metadata": {},
     "output_type": "execute_result"
    }
   ],
   "source": [
    "df_treat.shape"
   ]
  },
  {
   "cell_type": "code",
   "execution_count": 20,
   "metadata": {},
   "outputs": [
    {
     "data": {
      "text/plain": [
       "3.0324185230356597e-35"
      ]
     },
     "execution_count": 20,
     "metadata": {},
     "output_type": "execute_result"
    }
   ],
   "source": [
    "p_value"
   ]
  },
  {
   "cell_type": "code",
   "execution_count": 19,
   "metadata": {},
   "outputs": [
    {
     "data": {
      "text/plain": [
       "Ttest_indResult(statistic=-16.019643876306688, pvalue=3.03241852303566e-35)"
      ]
     },
     "execution_count": 19,
     "metadata": {},
     "output_type": "execute_result"
    }
   ],
   "source": [
    "stats.ttest_ind_from_stats(mean1=df_control.mean()\n",
    "                           , std1=df_control.std()\n",
    "                           , nobs1=150\n",
    "                           , mean2=df_treat.mean()\n",
    "                           , std2=df_treat.std()\n",
    "                           , nobs2=150\n",
    "                           , equal_var=False)"
   ]
  },
  {
   "cell_type": "code",
   "execution_count": 15,
   "metadata": {},
   "outputs": [],
   "source": [
    "import numpy as np\n",
    "from scipy.stats import ttest_ind\n",
    "from scipy.stats import t\n",
    "import pandas as pd\n",
    "\n",
    "def welch_ttest(x1, x2,alternative):\n",
    "    \n",
    "    n1 = x1.size\n",
    "    n2 = x2.size\n",
    "    m1 = np.mean(x1)\n",
    "    m2 = np.mean(x2)\n",
    "    \n",
    "    v1 = np.var(x1, ddof=1)\n",
    "    v2 = np.var(x2, ddof=1)\n",
    "    \n",
    "    pooled_se = np.sqrt(v1 / n1 + v2 / n2)\n",
    "    delta = m1-m2\n",
    "    \n",
    "    tstat = delta /  pooled_se\n",
    "    df = (v1 / n1 + v2 / n2)**2 / (v1**2 / (n1**2 * (n1 - 1)) + v2**2 / (n2**2 * (n2 - 1)))\n",
    "    \n",
    "    # two side t-test\n",
    "    p = 2 * t.cdf(-abs(tstat), df)\n",
    "    \n",
    "    # upper and lower bounds\n",
    "    lb = delta - t.ppf(0.975,df)*pooled_se \n",
    "    ub = delta + t.ppf(0.975,df)*pooled_se\n",
    "  \n",
    "    return pd.DataFrame(np.array([tstat,df,p,delta,lb,ub]).reshape(1,-1),\n",
    "                         columns=['T statistic','df','pvalue 2 sided','Difference in mean','lb','ub'])"
   ]
  },
  {
   "cell_type": "code",
   "execution_count": 16,
   "metadata": {},
   "outputs": [
    {
     "data": {
      "text/html": [
       "<div>\n",
       "<style scoped>\n",
       "    .dataframe tbody tr th:only-of-type {\n",
       "        vertical-align: middle;\n",
       "    }\n",
       "\n",
       "    .dataframe tbody tr th {\n",
       "        vertical-align: top;\n",
       "    }\n",
       "\n",
       "    .dataframe thead th {\n",
       "        text-align: right;\n",
       "    }\n",
       "</style>\n",
       "<table border=\"1\" class=\"dataframe\">\n",
       "  <thead>\n",
       "    <tr style=\"text-align: right;\">\n",
       "      <th></th>\n",
       "      <th>T statistic</th>\n",
       "      <th>df</th>\n",
       "      <th>pvalue 2 sided</th>\n",
       "      <th>Difference in mean</th>\n",
       "      <th>lb</th>\n",
       "      <th>ub</th>\n",
       "    </tr>\n",
       "  </thead>\n",
       "  <tbody>\n",
       "    <tr>\n",
       "      <th>0</th>\n",
       "      <td>-16.019644</td>\n",
       "      <td>162.296434</td>\n",
       "      <td>3.032419e-35</td>\n",
       "      <td>-4.087583</td>\n",
       "      <td>-4.591446</td>\n",
       "      <td>-3.583721</td>\n",
       "    </tr>\n",
       "  </tbody>\n",
       "</table>\n",
       "</div>"
      ],
      "text/plain": [
       "   T statistic          df  pvalue 2 sided  Difference in mean        lb  \\\n",
       "0   -16.019644  162.296434    3.032419e-35           -4.087583 -4.591446   \n",
       "\n",
       "         ub  \n",
       "0 -3.583721  "
      ]
     },
     "execution_count": 16,
     "metadata": {},
     "output_type": "execute_result"
    }
   ],
   "source": [
    "welch_ttest(df_control,df_treat,\"equal\")"
   ]
  },
  {
   "cell_type": "code",
   "execution_count": 17,
   "metadata": {},
   "outputs": [
    {
     "data": {
      "text/plain": [
       "-4.509893654334767"
      ]
     },
     "execution_count": 17,
     "metadata": {},
     "output_type": "execute_result"
    }
   ],
   "source": [
    "upper_bound"
   ]
  },
  {
   "cell_type": "code",
   "execution_count": 18,
   "metadata": {},
   "outputs": [
    {
     "data": {
      "text/plain": [
       "-3.665273229338887"
      ]
     },
     "execution_count": 18,
     "metadata": {},
     "output_type": "execute_result"
    }
   ],
   "source": [
    "lower_bound"
   ]
  },
  {
   "cell_type": "code",
   "execution_count": null,
   "metadata": {},
   "outputs": [],
   "source": []
  },
  {
   "cell_type": "code",
   "execution_count": 487,
   "metadata": {},
   "outputs": [
    {
     "data": {
      "text/plain": [
       "KstestResult(statistic=0.9616591299099563, pvalue=0.0)"
      ]
     },
     "execution_count": 487,
     "metadata": {},
     "output_type": "execute_result"
    }
   ],
   "source": [
    "stats.kstest(df_61['active_mins'], 'norm')"
   ]
  },
  {
   "cell_type": "code",
   "execution_count": 492,
   "metadata": {},
   "outputs": [
    {
     "data": {
      "text/html": [
       "<div>\n",
       "<style scoped>\n",
       "    .dataframe tbody tr th:only-of-type {\n",
       "        vertical-align: middle;\n",
       "    }\n",
       "\n",
       "    .dataframe tbody tr th {\n",
       "        vertical-align: top;\n",
       "    }\n",
       "\n",
       "    .dataframe thead th {\n",
       "        text-align: right;\n",
       "    }\n",
       "</style>\n",
       "<table border=\"1\" class=\"dataframe\">\n",
       "  <thead>\n",
       "    <tr style=\"text-align: right;\">\n",
       "      <th></th>\n",
       "      <th>uid</th>\n",
       "      <th>dt</th>\n",
       "      <th>active_mins</th>\n",
       "    </tr>\n",
       "  </thead>\n",
       "  <tbody>\n",
       "    <tr>\n",
       "      <th>533200</th>\n",
       "      <td>23941</td>\n",
       "      <td>2019-02-20</td>\n",
       "      <td>1.0</td>\n",
       "    </tr>\n",
       "    <tr>\n",
       "      <th>264373</th>\n",
       "      <td>11922</td>\n",
       "      <td>2019-04-09</td>\n",
       "      <td>1.0</td>\n",
       "    </tr>\n",
       "  </tbody>\n",
       "</table>\n",
       "</div>"
      ],
      "text/plain": [
       "          uid          dt  active_mins\n",
       "533200  23941  2019-02-20          1.0\n",
       "264373  11922  2019-04-09          1.0"
      ]
     },
     "execution_count": 492,
     "metadata": {},
     "output_type": "execute_result"
    }
   ],
   "source": [
    "df_52.head(2)"
   ]
  },
  {
   "cell_type": "code",
   "execution_count": 493,
   "metadata": {},
   "outputs": [],
   "source": [
    "df_62 = df_52.groupby(['dt'], as_index=False)['active_mins'].sum()"
   ]
  },
  {
   "cell_type": "code",
   "execution_count": 494,
   "metadata": {},
   "outputs": [
    {
     "data": {
      "text/plain": [
       "KstestResult(statistic=1.0, pvalue=0.0)"
      ]
     },
     "execution_count": 494,
     "metadata": {},
     "output_type": "execute_result"
    }
   ],
   "source": [
    "stats.kstest(df_62['active_mins'], 'norm')"
   ]
  },
  {
   "cell_type": "code",
   "execution_count": 331,
   "metadata": {},
   "outputs": [
    {
     "data": {
      "text/plain": [
       "KstestResult(statistic=0.8678963361749233, pvalue=0.0)"
      ]
     },
     "execution_count": 331,
     "metadata": {},
     "output_type": "execute_result"
    }
   ],
   "source": [
    "st.kstest(df_42, 'norm')"
   ]
  },
  {
   "cell_type": "code",
   "execution_count": 134,
   "metadata": {},
   "outputs": [
    {
     "data": {
      "text/plain": [
       "ShapiroResult(statistic=0.9979808926582336, pvalue=0.2747354805469513)"
      ]
     },
     "execution_count": 134,
     "metadata": {},
     "output_type": "execute_result"
    }
   ],
   "source": [
    "st.shapiro(dist_10)"
   ]
  },
  {
   "cell_type": "code",
   "execution_count": 129,
   "metadata": {},
   "outputs": [
    {
     "data": {
      "text/plain": [
       "ShapiroResult(statistic=0.0052002668380737305, pvalue=0.0)"
      ]
     },
     "execution_count": 129,
     "metadata": {},
     "output_type": "execute_result"
    }
   ],
   "source": [
    "st.shapiro(df_11)"
   ]
  },
  {
   "cell_type": "code",
   "execution_count": null,
   "metadata": {},
   "outputs": [],
   "source": []
  },
  {
   "cell_type": "code",
   "execution_count": null,
   "metadata": {},
   "outputs": [],
   "source": []
  },
  {
   "cell_type": "code",
   "execution_count": null,
   "metadata": {},
   "outputs": [],
   "source": []
  }
 ],
 "metadata": {
  "kernelspec": {
   "display_name": "Python 3",
   "language": "python",
   "name": "python3"
  },
  "language_info": {
   "codemirror_mode": {
    "name": "ipython",
    "version": 3
   },
   "file_extension": ".py",
   "mimetype": "text/x-python",
   "name": "python",
   "nbconvert_exporter": "python",
   "pygments_lexer": "ipython3",
   "version": "3.7.9"
  }
 },
 "nbformat": 4,
 "nbformat_minor": 4
}
